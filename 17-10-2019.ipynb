{
 "cells": [
  {
   "cell_type": "code",
   "execution_count": 11,
   "metadata": {},
   "outputs": [
    {
     "name": "stdout",
     "output_type": "stream",
     "text": [
      "the largest of number is  234\n"
     ]
    }
   ],
   "source": [
    "#Python Program to find largest element in an array\n",
    "#Given an array, find the largest element in it.\n",
    "def Largest(arr,n):\n",
    "    max = arr[0]\n",
    "    for i in range(1,n):\n",
    "        if arr[i] > max:\n",
    "            max = arr[i]\n",
    "    return max\n",
    "arr= [10,34,234,123]\n",
    "n = len(arr)\n",
    "Ans = largest(arr,n)\n",
    "print(\"the largest of number is \",Ans)"
   ]
  },
  {
   "cell_type": "code",
   "execution_count": 18,
   "metadata": {},
   "outputs": [
    {
     "name": "stdout",
     "output_type": "stream",
     "text": [
      "3 4 5 6 7 1 2 "
     ]
    }
   ],
   "source": [
    "#python program for array rotation\n",
    "def leftRotate(arr, d, n): \n",
    "    for i in range(d): \n",
    "        leftRotatebyOne(arr, n) \n",
    "#Function to left Rotate arr[] of size n by 1*/  \n",
    "def leftRotatebyOne(arr, n): \n",
    "    temp = arr[0] \n",
    "    for i in range(n-1): \n",
    "        arr[i] = arr[i+1] \n",
    "    arr[n-1] = temp \n",
    "# utility function to print an array */ \n",
    "def printArray(arr,size): \n",
    "    for i in range(size): \n",
    "        print (\"%d\"% arr[i],end=\" \") \n",
    "# Driver program to test above functions */ \n",
    "arr = [1, 2, 3, 4, 5, 6, 7] \n",
    "leftRotate(arr, 2, 7) \n",
    "printArray(arr, 7) "
   ]
  },
  {
   "cell_type": "code",
   "execution_count": 23,
   "metadata": {},
   "outputs": [
    {
     "name": "stdout",
     "output_type": "stream",
     "text": [
      "0\n"
     ]
    }
   ],
   "source": [
    "#Python Program for Find remainder of array multiplication divided by n\n",
    "def findremainder(arr,lens,n):\n",
    "    mul = 1\n",
    "    for i in range(lens):\n",
    "        mul = (mul * (arr[i]%n)) % n\n",
    "    return mul % n\n",
    "arr = [100,34,56,22,55]\n",
    "lens = len(arr)\n",
    "n = 11\n",
    "print(findremainder(arr,lens,n))"
   ]
  },
  {
   "cell_type": "code",
   "execution_count": 27,
   "metadata": {},
   "outputs": [
    {
     "name": "stdout",
     "output_type": "stream",
     "text": [
      "True\n"
     ]
    }
   ],
   "source": [
    "# check whether the number is monotone or not\n",
    "def isMonotonic(A): \n",
    "  \n",
    "    return (all(A[i] <= A[i + 1] for i in range(len(A) - 1)) or\n",
    "            all(A[i] >= A[i + 1] for i in range(len(A) - 1))) \n",
    "  \n",
    "# Driver program \n",
    "A = [6, 5, 4, 4] \n",
    "  \n",
    "# Print required result \n",
    "print(isMonotonic(A)) \n",
    "\n"
   ]
  },
  {
   "cell_type": "code",
   "execution_count": 29,
   "metadata": {},
   "outputs": [
    {
     "name": "stdout",
     "output_type": "stream",
     "text": [
      "True\n"
     ]
    }
   ],
   "source": [
    "def isMonotonic(A):\n",
    "    return (all(A[i] <= A[i+1] for i in range(len(A) - 1)) or\n",
    "            all(A[i]  >= A[i+1] for i in range(len(A) - 1)))\n",
    "A = [2,3,4,6]\n",
    "print(isMonotonic(A))"
   ]
  },
  {
   "cell_type": "code",
   "execution_count": 32,
   "metadata": {},
   "outputs": [
    {
     "name": "stdout",
     "output_type": "stream",
     "text": [
      "[7, 3, 4, 5, 1]\n"
     ]
    }
   ],
   "source": [
    "#python program to swap first\n",
    "#last elements in the list\n",
    "def swapList(newlist):\n",
    "    size = len(newlist)\n",
    "    temp = newlist[0]\n",
    "    newlist[0] = newlist[size-1]\n",
    "    newlist[size - 1] = temp\n",
    "    return newlist\n",
    "newlist = [1,3,4,5,7]\n",
    "print(swapList(newlist))"
   ]
  },
  {
   "cell_type": "code",
   "execution_count": 46,
   "metadata": {},
   "outputs": [
    {
     "name": "stdout",
     "output_type": "stream",
     "text": [
      "[19, 65, 23, 90]\n"
     ]
    }
   ],
   "source": [
    "#python programs to swap list\n",
    "#by there positions\n",
    "# Swap function \n",
    "def swapPositions(list, pos1, pos2): \n",
    "      \n",
    "    list[pos1], list[pos2] = list[pos2], list[pos1] \n",
    "    return list\n",
    "  \n",
    "# Driver function \n",
    "List = [23, 65, 19, 90] \n",
    "pos1, pos2  = 1, 3\n",
    "  \n",
    "print(swapPositions(List, pos1-1, pos2-1)) "
   ]
  },
  {
   "cell_type": "code",
   "execution_count": 50,
   "metadata": {},
   "outputs": [
    {
     "name": "stdout",
     "output_type": "stream",
     "text": [
      "Updated list is:  ['geeks', 'for']\n"
     ]
    }
   ],
   "source": [
    "# Python3 program to remove Nth  \n",
    "# occurrence of the given word \n",
    "  \n",
    "# Function to remove Ith word \n",
    "def RemoveIthWord(list, word, N): \n",
    "    count = 0\n",
    "      \n",
    "    for i in range(0, len(list)): \n",
    "        if (list[i] == word): \n",
    "            count = count + 1\n",
    "              \n",
    "            if(count == N): \n",
    "                del(list[i]) \n",
    "                return True\n",
    "                  \n",
    "    return False\n",
    "  \n",
    "# Driver code \n",
    "list = ['geeks', 'for', 'geeks'] \n",
    "word = 'geeks'\n",
    "N = 2\n",
    "  \n",
    "flag = RemoveIthWord(list, word, N) \n",
    "  \n",
    "if (flag == True): \n",
    "    print(\"Updated list is: \", list) \n",
    "else: \n",
    "    print(\"Item not Updated\")  "
   ]
  },
  {
   "cell_type": "code",
   "execution_count": 53,
   "metadata": {},
   "outputs": [
    {
     "name": "stdout",
     "output_type": "stream",
     "text": [
      "The list is : [1, 4, 5, 7, 8, 9, 12]\n",
      "Length of list usig navie methos is : 7\n"
     ]
    }
   ],
   "source": [
    "#python program to find the length of the list\n",
    "test_list = [1,4,5,7,8,9,12]\n",
    "print(\"The list is : \" + str(test_list))\n",
    "counter = 0\n",
    "for i in test_list:\n",
    "    counter = counter + 1\n",
    "print(\"Length of list usig navie methos is : \" + str(counter))"
   ]
  },
  {
   "cell_type": "code",
   "execution_count": 54,
   "metadata": {},
   "outputs": [
    {
     "name": "stdout",
     "output_type": "stream",
     "text": [
      "list before cleaning is:  [1, 2, 3, 4, 5]\n",
      "list after cleaning is:  []\n"
     ]
    }
   ],
   "source": [
    "list1 =[1,2,3,4,5]\n",
    "print(\"list before cleaning is: \",list1)\n",
    "list1 *= 0\n",
    "print(\"list after cleaning is: \",list1)"
   ]
  },
  {
   "cell_type": "code",
   "execution_count": 55,
   "metadata": {},
   "outputs": [
    {
     "name": "stdout",
     "output_type": "stream",
     "text": [
      "[15, 14, 13, 12, 11, 10]\n"
     ]
    }
   ],
   "source": [
    "#python program to reverse of the string\n",
    "def Reverse(lst): \n",
    "    return [ele for ele in reversed(lst)] \n",
    "      \n",
    "# Driver Code \n",
    "lst = [10, 11, 12, 13, 14, 15] \n",
    "print(Reverse(lst))"
   ]
  },
  {
   "cell_type": "code",
   "execution_count": 5,
   "metadata": {},
   "outputs": [
    {
     "data": {
      "text/plain": [
       "[5, 4, 3, 2, 1]"
      ]
     },
     "execution_count": 5,
     "metadata": {},
     "output_type": "execute_result"
    }
   ],
   "source": [
    "def reverse(list):\n",
    "    list.reverse()\n",
    "    return list\n",
    "list=[1,2,3,4,5]\n",
    "reverse(list)"
   ]
  },
  {
   "cell_type": "code",
   "execution_count": null,
   "metadata": {},
   "outputs": [],
   "source": []
  },
  {
   "cell_type": "code",
   "execution_count": null,
   "metadata": {},
   "outputs": [],
   "source": []
  }
 ],
 "metadata": {
  "kernelspec": {
   "display_name": "Python 3",
   "language": "python",
   "name": "python3"
  },
  "language_info": {
   "codemirror_mode": {
    "name": "ipython",
    "version": 3
   },
   "file_extension": ".py",
   "mimetype": "text/x-python",
   "name": "python",
   "nbconvert_exporter": "python",
   "pygments_lexer": "ipython3",
   "version": "3.7.1"
  }
 },
 "nbformat": 4,
 "nbformat_minor": 2
}
