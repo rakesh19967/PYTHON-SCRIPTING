{
 "cells": [
  {
   "cell_type": "markdown",
   "metadata": {},
   "source": [
    "### Dictionary Problems"
   ]
  },
  {
   "cell_type": "code",
   "execution_count": 1,
   "metadata": {},
   "outputs": [
    {
     "name": "stdout",
     "output_type": "stream",
     "text": [
      "1 2 3 4 5 6 "
     ]
    }
   ],
   "source": [
    "def dictionary():\n",
    "    key_value = {}\n",
    "    key_value[1] = 12\n",
    "    key_value[4] = 23\n",
    "    key_value[6] = 34\n",
    "    key_value[2] = 25\n",
    "    key_value[3] = 78\n",
    "    key_value[5] = 25\n",
    "    for i in sorted(key_value.keys()):\n",
    "        print(i,end = \" \")\n",
    "def main():\n",
    "    dictionary()\n",
    "if __name__ == \"__main__\":\n",
    "    main()\n"
   ]
  },
  {
   "cell_type": "markdown",
   "metadata": {},
   "source": [
    "# Program 1\n",
    "# Sorting the Keys and Values in Alphabetical Order using the Key.\n",
    "Examples:\n",
    "\n",
    "Input:\n",
    "key_value[2] = '64'       \n",
    "key_value[1] = '69'\n",
    "key_value[4] = '23'\n",
    "key_value[5] = '65'\n",
    "key_value[6] = '34'\n",
    "key_value[3] = '76'\n",
    "\n",
    "Output:\n",
    "(1, 69) (2, 64) (3, 76) (4, 23) (5, 65) (6, 34)\n"
   ]
  },
  {
   "cell_type": "code",
   "execution_count": 2,
   "metadata": {},
   "outputs": [
    {
     "name": "stdout",
     "output_type": "stream",
     "text": [
      "sorting the keys and values in Alphabetical Orber using the key \n",
      "(1, '69') (2, '64') (3, '76') (4, '23') (5, '65') (6, '34') "
     ]
    }
   ],
   "source": [
    "def dictionary():\n",
    "    key_value = { }\n",
    "    key_value[2] = '64'\n",
    "    key_value[1] = '69'\n",
    "    key_value[4] = '23'\n",
    "    key_value[5] = '65'\n",
    "    key_value[6] = '34'\n",
    "    key_value[3] = '76'\n",
    "    print(\"sorting the keys and values in Alphabetical Orber using the key \")\n",
    "    for i in sorted(key_value) :\n",
    "        print((i,key_value[i]), end=\" \")\n",
    "    \n",
    "def main():\n",
    "    dictionary()\n",
    "    \n",
    "if __name__ == \"__main__\":\n",
    "    main()\n",
    "    "
   ]
  },
  {
   "cell_type": "markdown",
   "metadata": {},
   "source": [
    "# Sorting the Keys and Values in alphabetical using the value"
   ]
  },
  {
   "cell_type": "code",
   "execution_count": 3,
   "metadata": {},
   "outputs": [
    {
     "name": "stdout",
     "output_type": "stream",
     "text": [
      "[(4, '12'), (2, '25'), (1, '34'), (6, '34'), (3, '56'), (5, '67')]\n"
     ]
    }
   ],
   "source": [
    "def dictionary():\n",
    "    key_value = {1:\"34\",2:\"25\",6:\"34\",5:\"67\",3:\"56\",4:\"12\"}\n",
    "    print(sorted(key_value.items(),key = lambda kv :(kv[1],kv[0])))\n",
    "def main():\n",
    "    dictionary()\n",
    "if __name__ == \"__main__\":\n",
    "    main()\n",
    "        "
   ]
  },
  {
   "cell_type": "markdown",
   "metadata": {},
   "source": [
    "# Program 2\n",
    "\n",
    "# Python Programs\n",
    "- check whether the given number is Even or Odd "
   ]
  },
  {
   "cell_type": "code",
   "execution_count": 4,
   "metadata": {
    "scrolled": true
   },
   "outputs": [
    {
     "name": "stdout",
     "output_type": "stream",
     "text": [
      "enter the number52\n",
      "Even\n"
     ]
    }
   ],
   "source": [
    "n=int(input(\"enter the number\"))\n",
    "if(n%2==0):\n",
    "    print(\"Even\")\n",
    "else:\n",
    "    print(\"Odd\")"
   ]
  },
  {
   "cell_type": "code",
   "execution_count": 5,
   "metadata": {},
   "outputs": [
    {
     "name": "stdout",
     "output_type": "stream",
     "text": [
      "n2 is greatest\n"
     ]
    }
   ],
   "source": [
    "#Program to find greatest among 3 given numbers \n",
    "def given_number(n1,n2,n3):\n",
    "    if n1>n2 and n1>n3:\n",
    "        print(\"n1 is great\")\n",
    "    elif n2>n1 and n2>n3:\n",
    "        print(\"n2 is greatest\")\n",
    "    else:\n",
    "        print(\"n3 is greatest\")\n",
    "given_number(10,29,2)    "
   ]
  },
  {
   "cell_type": "markdown",
   "metadata": {},
   "source": [
    "# Program 3\n",
    "\n",
    "# Given two integers a and b , return True if any one of the integer is 10 or sum of the two integers is 10 \n",
    "- makes10(9,10) -> True\n",
    "- makes10(10,9) -> True\n",
    "- makes10(1,9) -> True\n",
    "- makes10(3,-7) -> False"
   ]
  },
  {
   "cell_type": "code",
   "execution_count": 6,
   "metadata": {},
   "outputs": [
    {
     "name": "stdout",
     "output_type": "stream",
     "text": [
      "True\n",
      "True\n",
      "True\n",
      "False\n"
     ]
    }
   ],
   "source": [
    "def makes10(a,b):\n",
    "    return(a==10 or b==10 or (a+b==10))\n",
    "print(makes10(9,10))\n",
    "print(makes10(10,9))\n",
    "print(makes10(1,9))\n",
    "print(makes10(3,-7))"
   ]
  },
  {
   "cell_type": "markdown",
   "metadata": {},
   "source": [
    "# Program : 4\n",
    "## Given two integers , return true if one is positive and one is negative , except if the parameter negative is true and if both the numbers are negative\n",
    "\n",
    "Constraints :\n",
    "1<=a<=10^9\n",
    "\n",
    "1<=b<=10^9\n",
    "\n",
    "Test cases:\n",
    "pos_neg(1,-1,False) -> True\n",
    "pos_neg(-1,1,False) -> True\n",
    "pos_neg(-4,-5,True) -> True\n",
    "pos_neg(-1,1,True) -> False\n",
    "pos_neg(1,6,True) -> False\n",
    "pos_neg(-1,-9,False) -> False"
   ]
  },
  {
   "cell_type": "code",
   "execution_count": 7,
   "metadata": {},
   "outputs": [
    {
     "name": "stdout",
     "output_type": "stream",
     "text": [
      "True\n",
      "True\n",
      "True\n",
      "False\n",
      "False\n",
      "False\n"
     ]
    }
   ],
   "source": [
    "def pos_neg(a,b,c):\n",
    "    return (a<0 and b>0 and c==False) or (a>0 and b<0 and c==False) or (a<0 and b<0 and c==True)\n",
    "         \n",
    "print(pos_neg(1,-1,False))\n",
    "print(pos_neg(-1,1,False)) \n",
    "print(pos_neg(-4,-5,True))\n",
    "print(pos_neg(-1,1,True))\n",
    "print(pos_neg(1,6,True))\n",
    "print(pos_neg(-1,-9,False))"
   ]
  },
  {
   "cell_type": "markdown",
   "metadata": {},
   "source": [
    "# program 5\n",
    "## Problem Statement : \n",
    "- Given an integer , return true if the given number is 10 within 100 or 200\n",
    "# Constraints :1<=n<=10^9\n",
    "- Test cases:\n",
    "near_hundred(93) -> True\n",
    "near_hundred(90) -> True\n",
    "near_hundred(89) -> False"
   ]
  },
  {
   "cell_type": "code",
   "execution_count": 8,
   "metadata": {},
   "outputs": [
    {
     "name": "stdout",
     "output_type": "stream",
     "text": [
      "False\n",
      "False\n",
      "True\n",
      "True\n"
     ]
    }
   ],
   "source": [
    "def near_hundred(n):\n",
    "    return (n<=110 and n<=90) or (n<=210 and n>=190)\n",
    "\n",
    "print(near_hundred(93))\n",
    "print(near_hundred(110))\n",
    "print(near_hundred(89))\n",
    "print(near_hundred(90))"
   ]
  },
  {
   "cell_type": "markdown",
   "metadata": {},
   "source": [
    "# Probelm 6:\n",
    "# Problem Statement:\n",
    "### Evaluate a polynomial for a given x\n",
    "\n",
    "### Constraints\n",
    "- 1<=x<=1000\n",
    "\n",
    "# Test Cases\n",
    "- polynomial(1) -> -4\n",
    "- polynomial(2) -> 12\n",
    "- polynomial(25) -> 16940"
   ]
  },
  {
   "cell_type": "code",
   "execution_count": 9,
   "metadata": {},
   "outputs": [
    {
     "name": "stdout",
     "output_type": "stream",
     "text": [
      "-4\n",
      "12\n",
      "16940\n"
     ]
    }
   ],
   "source": [
    "def polynomial(x):\n",
    "    return ((x**3)+2*(x**2)+3*(x)-10)\n",
    "\n",
    "print(polynomial(1))\n",
    "print(polynomial(2))\n",
    "print(polynomial(25))\n",
    "    "
   ]
  },
  {
   "cell_type": "markdown",
   "metadata": {},
   "source": [
    "# Program 7\n",
    "# To find the factorial of the number"
   ]
  },
  {
   "cell_type": "code",
   "execution_count": 10,
   "metadata": {},
   "outputs": [
    {
     "name": "stdout",
     "output_type": "stream",
     "text": [
      "2\n",
      "6\n",
      "120\n"
     ]
    }
   ],
   "source": [
    "def factorial(n):\n",
    "    if (n!=0):\n",
    "        f=n*factorial(n-1)\n",
    "        return f\n",
    "    else:\n",
    "        return 1 \n",
    "print(factorial(2))\n",
    "print(factorial(3))\n",
    "print(factorial(5))"
   ]
  },
  {
   "cell_type": "markdown",
   "metadata": {},
   "source": [
    "# Program 8\n",
    "# Create a Random Number Generator as a Procedure which takes the Range(lb, ub) and returns a Random number in the given range "
   ]
  },
  {
   "cell_type": "code",
   "execution_count": 11,
   "metadata": {},
   "outputs": [
    {
     "name": "stdout",
     "output_type": "stream",
     "text": [
      "8\n"
     ]
    }
   ],
   "source": [
    "import random\n",
    "\n",
    "def randomgenerator(lb,ub):\n",
    "    return random.randint(lb+1,ub-1)\n",
    "\n",
    "print(randomgenerator(6,10))\n",
    "    "
   ]
  },
  {
   "cell_type": "markdown",
   "metadata": {},
   "source": [
    "# program 9\n",
    "# Given an integer n , Generate sum of n Random numbers in the range [0,10^9)"
   ]
  },
  {
   "cell_type": "code",
   "execution_count": 13,
   "metadata": {},
   "outputs": [
    {
     "data": {
      "text/plain": [
       "521333128002"
      ]
     },
     "execution_count": 13,
     "metadata": {},
     "output_type": "execute_result"
    }
   ],
   "source": [
    "import random\n",
    "\n",
    "def sumrandomnumbers(n,lb,ub):\n",
    "    sum = 0\n",
    "    for i in range(1,n+1):\n",
    "        sum=sum+random.randint(lb,ub)\n",
    "    return sum\n",
    "\n",
    "sumrandomnumbers(100,0,10**10)"
   ]
  },
  {
   "cell_type": "code",
   "execution_count": null,
   "metadata": {},
   "outputs": [],
   "source": [
    "\n"
   ]
  }
 ],
 "metadata": {
  "kernelspec": {
   "display_name": "Python 3",
   "language": "python",
   "name": "python3"
  },
  "language_info": {
   "codemirror_mode": {
    "name": "ipython",
    "version": 3
   },
   "file_extension": ".py",
   "mimetype": "text/x-python",
   "name": "python",
   "nbconvert_exporter": "python",
   "pygments_lexer": "ipython3",
   "version": "3.7.1"
  }
 },
 "nbformat": 4,
 "nbformat_minor": 2
}
