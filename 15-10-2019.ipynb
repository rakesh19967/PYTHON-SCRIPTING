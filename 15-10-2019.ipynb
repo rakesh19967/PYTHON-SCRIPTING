{
 "cells": [
  {
   "cell_type": "code",
   "execution_count": 1,
   "metadata": {},
   "outputs": [
    {
     "name": "stdout",
     "output_type": "stream",
     "text": [
      "factorial of  5 is 120\n"
     ]
    }
   ],
   "source": [
    "#Factorial of a number \n",
    "def factorial(n):\n",
    "    return 1 if (n==0 or n==1) else n*factorial(n-1)\n",
    "num =5\n",
    "print(\"factorial of \",num,\"is\",factorial(num))"
   ]
  },
  {
   "cell_type": "code",
   "execution_count": 2,
   "metadata": {},
   "outputs": [
    {
     "name": "stdout",
     "output_type": "stream",
     "text": [
      "simple interest 2500.0\n"
     ]
    }
   ],
   "source": [
    "#program to find Simple Interest\n",
    "P =10000\n",
    "T = 5\n",
    "R = 5\n",
    "SI = (P * T *R)/100\n",
    "print(\"simple interest\",SI)\n"
   ]
  },
  {
   "cell_type": "code",
   "execution_count": 4,
   "metadata": {},
   "outputs": [
    {
     "name": "stdout",
     "output_type": "stream",
     "text": [
      "compound interest 1010.0\n"
     ]
    }
   ],
   "source": [
    "#python Program to find compound Interest\n",
    "def compound_interest(principle,rate,time):\n",
    "    CI = principle * (pow((1+rate/100),time))\n",
    "    print(\"compound interest\",CI)\n",
    "compound_interest(1000,1,1) "
   ]
  },
  {
   "cell_type": "code",
   "execution_count": null,
   "metadata": {},
   "outputs": [],
   "source": []
  },
  {
   "cell_type": "code",
   "execution_count": 1,
   "metadata": {},
   "outputs": [
    {
     "name": "stdout",
     "output_type": "stream",
     "text": [
      "1634 is an Armstrong number\n"
     ]
    }
   ],
   "source": [
    "#python Program to check whether the given number is Armstrong or Not\n",
    "\n",
    "num = 1634\n",
    "order = len(str(num))\n",
    "sum = 0\n",
    "temp = num\n",
    "while temp > 0:\n",
    "   digit = temp % 10\n",
    "   sum += digit ** order\n",
    "   temp //= 10\n",
    "if num == sum:\n",
    "   print(num,\"is an Armstrong number\")\n",
    "else:\n",
    "   print(num,\"is not an Armstrong number\")"
   ]
  },
  {
   "cell_type": "code",
   "execution_count": 7,
   "metadata": {},
   "outputs": [
    {
     "name": "stdout",
     "output_type": "stream",
     "text": [
      "2\n",
      "3\n",
      "5\n"
     ]
    }
   ],
   "source": [
    "#python program to print all the \n",
    "#variables in range for prime number\n",
    "start = 1\n",
    "end = 5\n",
    "for i in range(start,end+1):\n",
    "    if i>1:\n",
    "        for n in range(2,i):\n",
    "            if (i%n) == 0:\n",
    "                break\n",
    "        else:\n",
    "            print(i)\n",
    "    \n",
    "    "
   ]
  },
  {
   "cell_type": "code",
   "execution_count": 9,
   "metadata": {},
   "outputs": [
    {
     "name": "stdout",
     "output_type": "stream",
     "text": [
      "21\n"
     ]
    }
   ],
   "source": [
    "#python program for nth Fibonaic series\n",
    "def Fibonacci(n):\n",
    "    if n<0:\n",
    "        print(\"Incorrect Input\")\n",
    "    elif n==1:\n",
    "        return 0\n",
    "    elif n==2:\n",
    "        return 1\n",
    "    else:\n",
    "        return Fibonacci(n-1)+Fibonacci(n-2)\n",
    "print(Fibonacci(9))"
   ]
  },
  {
   "cell_type": "code",
   "execution_count": 16,
   "metadata": {},
   "outputs": [
    {
     "name": "stdout",
     "output_type": "stream",
     "text": [
      "1 is a Fibnocci number\n",
      "2 is a Fibnocci number\n",
      "3 is a Fibnocci number\n",
      "4 is not a Fibnocci number\n",
      "5 is a Fibnocci number\n",
      "6 is not a Fibnocci number\n",
      "7 is not a Fibnocci number\n",
      "8 is a Fibnocci number\n",
      "9 is not a Fibnocci number\n",
      "10 is not a Fibnocci number\n"
     ]
    }
   ],
   "source": [
    "#Python Program to check whether the given number is Fibnocci number or not \n",
    "\n",
    "import math\n",
    "def isPerfectSquare(x):\n",
    "    s = int(math.sqrt(x))\n",
    "    return s*s == x\n",
    "def isFibonacci(n):\n",
    "    return isPerfectSquare(5 * n * n + 4) or isPerfectSquare(5 * n *n - 4)\n",
    "for i in range(1,11):\n",
    "    if(isFibonacci(i) == True):\n",
    "        print(i,\"is a Fibnocci number\")\n",
    "    else:\n",
    "        print(i,\"is not a Fibnocci number\")"
   ]
  },
  {
   "cell_type": "code",
   "execution_count": 18,
   "metadata": {},
   "outputs": [
    {
     "name": "stdout",
     "output_type": "stream",
     "text": [
      "the ASCII value of the c is 97\n"
     ]
    }
   ],
   "source": [
    "#python program to print\n",
    "#ASCII value of the string\n",
    "c='a'\n",
    "print(\"the ASCII value of the c is\",ord(c))"
   ]
  },
  {
   "cell_type": "code",
   "execution_count": 20,
   "metadata": {},
   "outputs": [
    {
     "name": "stdout",
     "output_type": "stream",
     "text": [
      "14\n"
     ]
    }
   ],
   "source": [
    "#Python Program for Sum of squares of first n natural numbers\n",
    "#Given a positive integer N. The task is to find 12 + 22 + 32 + ….. + N2.\n",
    "\n",
    "def squaresum(x):\n",
    "    sum = 0\n",
    "    for i in range(1,n+1):\n",
    "        sum = sum + (i*i)\n",
    "    return sum\n",
    "n=3\n",
    "print(squaresum(n))\n",
    "    \n",
    "    "
   ]
  },
  {
   "cell_type": "code",
   "execution_count": 26,
   "metadata": {},
   "outputs": [
    {
     "name": "stdout",
     "output_type": "stream",
     "text": [
      "225\n"
     ]
    }
   ],
   "source": [
    "def cubesum(n):\n",
    "    sum = 0\n",
    "    for i in range(1,n+1):\n",
    "        sum+=i*i*i\n",
    "    return sum\n",
    "n=5\n",
    "print(cubesum(n))"
   ]
  },
  {
   "cell_type": "code",
   "execution_count": 45,
   "metadata": {},
   "outputs": [],
   "source": [
    "def sum_1(arr):\n",
    "    result = 0\n",
    "    for x in arr:\n",
    "        result += x\n",
    "    return result"
   ]
  },
  {
   "cell_type": "code",
   "execution_count": null,
   "metadata": {},
   "outputs": [],
   "source": []
  },
  {
   "cell_type": "code",
   "execution_count": null,
   "metadata": {},
   "outputs": [],
   "source": []
  }
 ],
 "metadata": {
  "kernelspec": {
   "display_name": "Python 3",
   "language": "python",
   "name": "python3"
  },
  "language_info": {
   "codemirror_mode": {
    "name": "ipython",
    "version": 3
   },
   "file_extension": ".py",
   "mimetype": "text/x-python",
   "name": "python",
   "nbconvert_exporter": "python",
   "pygments_lexer": "ipython3",
   "version": "3.7.1"
  }
 },
 "nbformat": 4,
 "nbformat_minor": 2
}
